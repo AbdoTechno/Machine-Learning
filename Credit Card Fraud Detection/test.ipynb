{
 "cells": [
  {
   "cell_type": "code",
   "execution_count": null,
   "id": "c82c2fd4",
   "metadata": {},
   "outputs": [
    {
     "name": "stdout",
     "output_type": "stream",
     "text": [
      "✅ Sample dataset created: sample_creditcard.csv\n",
      "(5000, 30)\n"
     ]
    }
   ],
   "source": [
    "import pandas as pd\n",
    "\n",
    "df = pd.read_csv(\"creditcard.csv\")\n",
    "\n",
    "df.drop(\"Class\", axis=1, inplace=True)\n",
    "df_sample = df.sample(n=5000, random_state=42)\n",
    "\n",
    "\n",
    "df_sample.to_csv(\"sample_creditcard.csv\", index=False)\n",
    "\n",
    "print(\"✅ Sample dataset created: sample_creditcard.csv\")\n",
    "print(df_sample.shape)\n"
   ]
  },
  {
   "cell_type": "code",
   "execution_count": null,
   "id": "fcb5b86d",
   "metadata": {},
   "outputs": [],
   "source": []
  }
 ],
 "metadata": {
  "kernelspec": {
   "display_name": "Python 3",
   "language": "python",
   "name": "python3"
  },
  "language_info": {
   "codemirror_mode": {
    "name": "ipython",
    "version": 3
   },
   "file_extension": ".py",
   "mimetype": "text/x-python",
   "name": "python",
   "nbconvert_exporter": "python",
   "pygments_lexer": "ipython3",
   "version": "3.13.7"
  }
 },
 "nbformat": 4,
 "nbformat_minor": 5
}
